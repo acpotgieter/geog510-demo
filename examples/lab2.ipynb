{
 "cells": [
  {
   "cell_type": "markdown",
   "id": "3ae415c8",
   "metadata": {},
   "source": [
    "# Lab 2 Exercise 3: Contribute to an Open-Source Project on GitHub"
   ]
  },
  {
   "cell_type": "code",
   "execution_count": 7,
   "id": "c8d22fde",
   "metadata": {},
   "outputs": [
    {
     "name": "stdout",
     "output_type": "stream",
     "text": [
      "Hello Notebook World!\n"
     ]
    }
   ],
   "source": [
    "print(\"Hello Notebook World!\")"
   ]
  },
  {
   "cell_type": "code",
   "execution_count": 9,
   "id": "403f822d",
   "metadata": {},
   "outputs": [
    {
     "name": "stdout",
     "output_type": "stream",
     "text": [
      "AC\n"
     ]
    }
   ],
   "source": [
    "print(\"AC\")"
   ]
  }
 ],
 "metadata": {
  "kernelspec": {
   "display_name": "geo",
   "language": "python",
   "name": "python3"
  },
  "language_info": {
   "codemirror_mode": {
    "name": "ipython",
    "version": 3
   },
   "file_extension": ".py",
   "mimetype": "text/x-python",
   "name": "python",
   "nbconvert_exporter": "python",
   "pygments_lexer": "ipython3",
   "version": "3.12.9"
  }
 },
 "nbformat": 4,
 "nbformat_minor": 5
}
